{
 "cells": [
  {
   "cell_type": "code",
   "execution_count": 6,
   "metadata": {},
   "outputs": [],
   "source": [
    "import cv2\n",
    "import numpy as np\n",
    "import matplotlib.pyplot as plot\n",
    "\n",
    "\n",
    "#print(img)\n",
    "def canny(image):\n",
    "    gray = cv2.cvtColor(lane_image, cv2.COLOR_BGR2GRAY)\n",
    "    blur = cv2.GaussianBlur(gray, (5,5),0)\n",
    "    canny = cv2.Canny(blur, 50, 150)\n",
    "    return canny\n",
    "\n",
    "#img = cv2.imread('D:/opencv/images/baboon.jpg', cv2.IMREAD_COLOR )\n",
    "\n",
    "image = cv2.imread('D:/opencv/images/straight_road2.jpg')\n",
    "lane_image = np.copy(image)\n",
    "gray = cv2.cvtColor(lane_image, cv2.COLOR_BGR2GRAY)\n",
    "blur = cv2.GaussianBlur(gray, (5,5),0)\n",
    "\n",
    "canny = canny(lane_image)\n",
    "#cv2.imshow(\"org\", image)\n",
    "#cv2.imshow(\"gray\", gray)\n",
    "cv2.imshow(\"blur\", blur)\n",
    "cv2.imshow(\"canny \", canny)\n",
    "cv2.waitKey(0)\n",
    "cv2.destroyAllWindows()\n",
    "#plot.imshow(canny)\n",
    "#plot.show()\n"
   ]
  },
  {
   "cell_type": "code",
   "execution_count": null,
   "metadata": {},
   "outputs": [],
   "source": []
  }
 ],
 "metadata": {
  "kernelspec": {
   "display_name": "Python 3",
   "language": "python",
   "name": "python3"
  },
  "language_info": {
   "codemirror_mode": {
    "name": "ipython",
    "version": 3
   },
   "file_extension": ".py",
   "mimetype": "text/x-python",
   "name": "python",
   "nbconvert_exporter": "python",
   "pygments_lexer": "ipython3",
   "version": "3.7.4"
  }
 },
 "nbformat": 4,
 "nbformat_minor": 2
}
