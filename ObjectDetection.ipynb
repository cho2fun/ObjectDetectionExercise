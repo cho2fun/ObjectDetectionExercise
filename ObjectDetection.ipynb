{
 "cells": [
  {
   "cell_type": "code",
   "execution_count": 20,
   "metadata": {},
   "outputs": [],
   "source": [
    "import cv2\n",
    "import matplotlib.pyplot as plt\n",
    "import cvlib as cv\n",
    "from cvlib.object_detection import draw_bbox\n",
    "#fileName = 'd:/opencv/images/dog.jpg'\n",
    "fileName = 'd:/utilities/test2.jpg'\n",
    "image = cv2.imread(fileName,cv2.CV_LOAD_IMAGE_COLOR) \n",
    "\n",
    "bbox, label, conf = cv.detect_common_objects(image)\n",
    "output_image = draw_bbox(image,bbox,label, conf)\n",
    "\n",
    "cv2.imshow('objects ' ,output_image)\n",
    "cv2.waitKey(0)\n",
    "cv2.destroyAllWindows()\n",
    "\n",
    "\n",
    "#plt.imshow(output_image)\n",
    "#plt.show()\n",
    "\n"
   ]
  },
  {
   "cell_type": "code",
   "execution_count": null,
   "metadata": {},
   "outputs": [],
   "source": []
  }
 ],
 "metadata": {
  "kernelspec": {
   "display_name": "Python 3",
   "language": "python",
   "name": "python3"
  },
  "language_info": {
   "codemirror_mode": {
    "name": "ipython",
    "version": 3
   },
   "file_extension": ".py",
   "mimetype": "text/x-python",
   "name": "python",
   "nbconvert_exporter": "python",
   "pygments_lexer": "ipython3",
   "version": "3.7.4"
  }
 },
 "nbformat": 4,
 "nbformat_minor": 2
}
